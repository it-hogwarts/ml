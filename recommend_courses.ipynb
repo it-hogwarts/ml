{
  "nbformat": 4,
  "nbformat_minor": 0,
  "metadata": {
    "colab": {
      "name": "recommend_courses.ipynb",
      "provenance": [],
      "collapsed_sections": []
    },
    "kernelspec": {
      "name": "python3",
      "display_name": "Python 3"
    },
    "language_info": {
      "name": "python"
    },
    "widgets": {
      "application/vnd.jupyter.widget-state+json": {
        "bec9c8c091b64ffbb6ca54b80b920694": {
          "model_module": "@jupyter-widgets/controls",
          "model_name": "HBoxModel",
          "model_module_version": "1.5.0",
          "state": {
            "_view_name": "HBoxView",
            "_dom_classes": [],
            "_model_name": "HBoxModel",
            "_view_module": "@jupyter-widgets/controls",
            "_model_module_version": "1.5.0",
            "_view_count": null,
            "_view_module_version": "1.5.0",
            "box_style": "",
            "layout": "IPY_MODEL_b9aafa15af0b4d588b74a7f40bb27de0",
            "_model_module": "@jupyter-widgets/controls",
            "children": [
              "IPY_MODEL_268c3fa04a28433a9229c6c8d872ec1c",
              "IPY_MODEL_918cee82e2534ec0b475860b50736803",
              "IPY_MODEL_75ca17cbd7714352b1348b6959b77ddc"
            ]
          }
        },
        "b9aafa15af0b4d588b74a7f40bb27de0": {
          "model_module": "@jupyter-widgets/base",
          "model_name": "LayoutModel",
          "model_module_version": "1.2.0",
          "state": {
            "_view_name": "LayoutView",
            "grid_template_rows": null,
            "right": null,
            "justify_content": null,
            "_view_module": "@jupyter-widgets/base",
            "overflow": null,
            "_model_module_version": "1.2.0",
            "_view_count": null,
            "flex_flow": null,
            "width": null,
            "min_width": null,
            "border": null,
            "align_items": null,
            "bottom": null,
            "_model_module": "@jupyter-widgets/base",
            "top": null,
            "grid_column": null,
            "overflow_y": null,
            "overflow_x": null,
            "grid_auto_flow": null,
            "grid_area": null,
            "grid_template_columns": null,
            "flex": null,
            "_model_name": "LayoutModel",
            "justify_items": null,
            "grid_row": null,
            "max_height": null,
            "align_content": null,
            "visibility": null,
            "align_self": null,
            "height": null,
            "min_height": null,
            "padding": null,
            "grid_auto_rows": null,
            "grid_gap": null,
            "max_width": null,
            "order": null,
            "_view_module_version": "1.2.0",
            "grid_template_areas": null,
            "object_position": null,
            "object_fit": null,
            "grid_auto_columns": null,
            "margin": null,
            "display": null,
            "left": null
          }
        },
        "268c3fa04a28433a9229c6c8d872ec1c": {
          "model_module": "@jupyter-widgets/controls",
          "model_name": "HTMLModel",
          "model_module_version": "1.5.0",
          "state": {
            "_view_name": "HTMLView",
            "style": "IPY_MODEL_10a09e7030da4a77b4e61cfd83c27777",
            "_dom_classes": [],
            "description": "",
            "_model_name": "HTMLModel",
            "placeholder": "​",
            "_view_module": "@jupyter-widgets/controls",
            "_model_module_version": "1.5.0",
            "value": "100%",
            "_view_count": null,
            "_view_module_version": "1.5.0",
            "description_tooltip": null,
            "_model_module": "@jupyter-widgets/controls",
            "layout": "IPY_MODEL_42ca7ce06c7d4576930915db55001688"
          }
        },
        "918cee82e2534ec0b475860b50736803": {
          "model_module": "@jupyter-widgets/controls",
          "model_name": "FloatProgressModel",
          "model_module_version": "1.5.0",
          "state": {
            "_view_name": "ProgressView",
            "style": "IPY_MODEL_f03113c0123d4c178fe3bb9690c0be46",
            "_dom_classes": [],
            "description": "",
            "_model_name": "FloatProgressModel",
            "bar_style": "success",
            "max": 8365,
            "_view_module": "@jupyter-widgets/controls",
            "_model_module_version": "1.5.0",
            "value": 8365,
            "_view_count": null,
            "_view_module_version": "1.5.0",
            "orientation": "horizontal",
            "min": 0,
            "description_tooltip": null,
            "_model_module": "@jupyter-widgets/controls",
            "layout": "IPY_MODEL_377eb485ceec44f5b1aa2bd52b17de0a"
          }
        },
        "75ca17cbd7714352b1348b6959b77ddc": {
          "model_module": "@jupyter-widgets/controls",
          "model_name": "HTMLModel",
          "model_module_version": "1.5.0",
          "state": {
            "_view_name": "HTMLView",
            "style": "IPY_MODEL_54f537dc7cf84664a47d8cfceb226ec1",
            "_dom_classes": [],
            "description": "",
            "_model_name": "HTMLModel",
            "placeholder": "​",
            "_view_module": "@jupyter-widgets/controls",
            "_model_module_version": "1.5.0",
            "value": " 8365/8365 [00:01&lt;00:00, 10113.62it/s]",
            "_view_count": null,
            "_view_module_version": "1.5.0",
            "description_tooltip": null,
            "_model_module": "@jupyter-widgets/controls",
            "layout": "IPY_MODEL_0d2d31cd722e4fa1a7883b48bca3339f"
          }
        },
        "10a09e7030da4a77b4e61cfd83c27777": {
          "model_module": "@jupyter-widgets/controls",
          "model_name": "DescriptionStyleModel",
          "model_module_version": "1.5.0",
          "state": {
            "_view_name": "StyleView",
            "_model_name": "DescriptionStyleModel",
            "description_width": "",
            "_view_module": "@jupyter-widgets/base",
            "_model_module_version": "1.5.0",
            "_view_count": null,
            "_view_module_version": "1.2.0",
            "_model_module": "@jupyter-widgets/controls"
          }
        },
        "42ca7ce06c7d4576930915db55001688": {
          "model_module": "@jupyter-widgets/base",
          "model_name": "LayoutModel",
          "model_module_version": "1.2.0",
          "state": {
            "_view_name": "LayoutView",
            "grid_template_rows": null,
            "right": null,
            "justify_content": null,
            "_view_module": "@jupyter-widgets/base",
            "overflow": null,
            "_model_module_version": "1.2.0",
            "_view_count": null,
            "flex_flow": null,
            "width": null,
            "min_width": null,
            "border": null,
            "align_items": null,
            "bottom": null,
            "_model_module": "@jupyter-widgets/base",
            "top": null,
            "grid_column": null,
            "overflow_y": null,
            "overflow_x": null,
            "grid_auto_flow": null,
            "grid_area": null,
            "grid_template_columns": null,
            "flex": null,
            "_model_name": "LayoutModel",
            "justify_items": null,
            "grid_row": null,
            "max_height": null,
            "align_content": null,
            "visibility": null,
            "align_self": null,
            "height": null,
            "min_height": null,
            "padding": null,
            "grid_auto_rows": null,
            "grid_gap": null,
            "max_width": null,
            "order": null,
            "_view_module_version": "1.2.0",
            "grid_template_areas": null,
            "object_position": null,
            "object_fit": null,
            "grid_auto_columns": null,
            "margin": null,
            "display": null,
            "left": null
          }
        },
        "f03113c0123d4c178fe3bb9690c0be46": {
          "model_module": "@jupyter-widgets/controls",
          "model_name": "ProgressStyleModel",
          "model_module_version": "1.5.0",
          "state": {
            "_view_name": "StyleView",
            "_model_name": "ProgressStyleModel",
            "description_width": "",
            "_view_module": "@jupyter-widgets/base",
            "_model_module_version": "1.5.0",
            "_view_count": null,
            "_view_module_version": "1.2.0",
            "bar_color": null,
            "_model_module": "@jupyter-widgets/controls"
          }
        },
        "377eb485ceec44f5b1aa2bd52b17de0a": {
          "model_module": "@jupyter-widgets/base",
          "model_name": "LayoutModel",
          "model_module_version": "1.2.0",
          "state": {
            "_view_name": "LayoutView",
            "grid_template_rows": null,
            "right": null,
            "justify_content": null,
            "_view_module": "@jupyter-widgets/base",
            "overflow": null,
            "_model_module_version": "1.2.0",
            "_view_count": null,
            "flex_flow": null,
            "width": null,
            "min_width": null,
            "border": null,
            "align_items": null,
            "bottom": null,
            "_model_module": "@jupyter-widgets/base",
            "top": null,
            "grid_column": null,
            "overflow_y": null,
            "overflow_x": null,
            "grid_auto_flow": null,
            "grid_area": null,
            "grid_template_columns": null,
            "flex": null,
            "_model_name": "LayoutModel",
            "justify_items": null,
            "grid_row": null,
            "max_height": null,
            "align_content": null,
            "visibility": null,
            "align_self": null,
            "height": null,
            "min_height": null,
            "padding": null,
            "grid_auto_rows": null,
            "grid_gap": null,
            "max_width": null,
            "order": null,
            "_view_module_version": "1.2.0",
            "grid_template_areas": null,
            "object_position": null,
            "object_fit": null,
            "grid_auto_columns": null,
            "margin": null,
            "display": null,
            "left": null
          }
        },
        "54f537dc7cf84664a47d8cfceb226ec1": {
          "model_module": "@jupyter-widgets/controls",
          "model_name": "DescriptionStyleModel",
          "model_module_version": "1.5.0",
          "state": {
            "_view_name": "StyleView",
            "_model_name": "DescriptionStyleModel",
            "description_width": "",
            "_view_module": "@jupyter-widgets/base",
            "_model_module_version": "1.5.0",
            "_view_count": null,
            "_view_module_version": "1.2.0",
            "_model_module": "@jupyter-widgets/controls"
          }
        },
        "0d2d31cd722e4fa1a7883b48bca3339f": {
          "model_module": "@jupyter-widgets/base",
          "model_name": "LayoutModel",
          "model_module_version": "1.2.0",
          "state": {
            "_view_name": "LayoutView",
            "grid_template_rows": null,
            "right": null,
            "justify_content": null,
            "_view_module": "@jupyter-widgets/base",
            "overflow": null,
            "_model_module_version": "1.2.0",
            "_view_count": null,
            "flex_flow": null,
            "width": null,
            "min_width": null,
            "border": null,
            "align_items": null,
            "bottom": null,
            "_model_module": "@jupyter-widgets/base",
            "top": null,
            "grid_column": null,
            "overflow_y": null,
            "overflow_x": null,
            "grid_auto_flow": null,
            "grid_area": null,
            "grid_template_columns": null,
            "flex": null,
            "_model_name": "LayoutModel",
            "justify_items": null,
            "grid_row": null,
            "max_height": null,
            "align_content": null,
            "visibility": null,
            "align_self": null,
            "height": null,
            "min_height": null,
            "padding": null,
            "grid_auto_rows": null,
            "grid_gap": null,
            "max_width": null,
            "order": null,
            "_view_module_version": "1.2.0",
            "grid_template_areas": null,
            "object_position": null,
            "object_fit": null,
            "grid_auto_columns": null,
            "margin": null,
            "display": null,
            "left": null
          }
        }
      }
    }
  },
  "cells": [
    {
      "cell_type": "code",
      "execution_count": 1,
      "metadata": {
        "colab": {
          "base_uri": "https://localhost:8080/"
        },
        "id": "0VbGzqNaW-zL",
        "outputId": "e21afc27-cf26-48b7-a3be-3560d6d13ffb"
      },
      "outputs": [
        {
          "output_type": "stream",
          "name": "stdout",
          "text": [
            "Mounted at /content/gdrive/\n"
          ]
        }
      ],
      "source": [
        "from google.colab import drive\n",
        "drive.mount('/content/gdrive/')"
      ]
    },
    {
      "cell_type": "code",
      "source": [
        "from typing import List, Dict\n",
        "import csv\n",
        "import time\n",
        "import pandas as pd\n",
        "from tqdm.notebook import tqdm\n",
        "import numpy as np"
      ],
      "metadata": {
        "id": "dOe3OZn8XJXV"
      },
      "execution_count": 66,
      "outputs": []
    },
    {
      "cell_type": "code",
      "source": [
        "data = pd.read_csv('/content/gdrive/MyDrive/IT-H/data_1.csv')\n",
        "data = data[data['Role Category'] == 'Programming & Design'].dropna(subset = ['Key Skills'])"
      ],
      "metadata": {
        "id": "Uzb2gyW9XKCs"
      },
      "execution_count": 17,
      "outputs": []
    },
    {
      "cell_type": "code",
      "source": [
        "data.head(5)"
      ],
      "metadata": {
        "colab": {
          "base_uri": "https://localhost:8080/",
          "height": 600
        },
        "id": "8zaCS4r4XUcd",
        "outputId": "d560d6ab-e97c-4c05-897b-d29b4da4d02a"
      },
      "execution_count": 62,
      "outputs": [
        {
          "output_type": "execute_result",
          "data": {
            "text/html": [
              "\n",
              "  <div id=\"df-f76bbe62-5fdd-4c1e-9ddd-b20e613df10d\">\n",
              "    <div class=\"colab-df-container\">\n",
              "      <div>\n",
              "<style scoped>\n",
              "    .dataframe tbody tr th:only-of-type {\n",
              "        vertical-align: middle;\n",
              "    }\n",
              "\n",
              "    .dataframe tbody tr th {\n",
              "        vertical-align: top;\n",
              "    }\n",
              "\n",
              "    .dataframe thead th {\n",
              "        text-align: right;\n",
              "    }\n",
              "</style>\n",
              "<table border=\"1\" class=\"dataframe\">\n",
              "  <thead>\n",
              "    <tr style=\"text-align: right;\">\n",
              "      <th></th>\n",
              "      <th>Uniq Id</th>\n",
              "      <th>Crawl Timestamp</th>\n",
              "      <th>Job Title</th>\n",
              "      <th>Job Salary</th>\n",
              "      <th>Job Experience Required</th>\n",
              "      <th>Key Skills</th>\n",
              "      <th>Role Category</th>\n",
              "      <th>Location</th>\n",
              "      <th>Functional Area</th>\n",
              "      <th>Industry</th>\n",
              "      <th>Role</th>\n",
              "    </tr>\n",
              "  </thead>\n",
              "  <tbody>\n",
              "    <tr>\n",
              "      <th>4</th>\n",
              "      <td>2d8b7d44e138a54d5dc841163138de50</td>\n",
              "      <td>2019-07-05 02:48:29 +0000</td>\n",
              "      <td>Software Test Engineer -hyderabad</td>\n",
              "      <td>Not Disclosed by Recruiter</td>\n",
              "      <td>2 - 5 yrs</td>\n",
              "      <td>manual testing| test engineering| test cases|...</td>\n",
              "      <td>Programming &amp; Design</td>\n",
              "      <td>Hyderabad</td>\n",
              "      <td>IT Software - QA &amp; Testing</td>\n",
              "      <td>IT-Software, Software Services</td>\n",
              "      <td>Testing Engineer</td>\n",
              "    </tr>\n",
              "    <tr>\n",
              "      <th>5</th>\n",
              "      <td>c9628ea8d9cfd2ca72e14d53783aca90</td>\n",
              "      <td>2019-08-05 03:59:27 +0000</td>\n",
              "      <td>Opening For Adobe Analytics Specialist</td>\n",
              "      <td>7,00,000 - 17,00,000 PA.</td>\n",
              "      <td>5 - 7 yrs</td>\n",
              "      <td>adobe experience manager| digital| digital ma...</td>\n",
              "      <td>Programming &amp; Design</td>\n",
              "      <td>Pune</td>\n",
              "      <td>IT Software - Application Programming , Mainte...</td>\n",
              "      <td>IT-Software, Software Services</td>\n",
              "      <td>System Analyst</td>\n",
              "    </tr>\n",
              "    <tr>\n",
              "      <th>7</th>\n",
              "      <td>9642bed00e26183e41ab73778bf48108</td>\n",
              "      <td>2019-08-04 03:31:17 +0000</td>\n",
              "      <td>Opportunity For Azure Devops Architect For Hy...</td>\n",
              "      <td>Not Disclosed by Recruiter</td>\n",
              "      <td>9 - 14 yrs</td>\n",
              "      <td>TFS| Azure| Git| VSTS| Docker| DynaTrace| Spl...</td>\n",
              "      <td>Programming &amp; Design</td>\n",
              "      <td>Hyderabad</td>\n",
              "      <td>IT Software - Application Programming , Mainte...</td>\n",
              "      <td>IT-Software, Software Services</td>\n",
              "      <td>Technical Architect</td>\n",
              "    </tr>\n",
              "    <tr>\n",
              "      <th>13</th>\n",
              "      <td>225c4680e3df32fbaf9c625ca18ae47c</td>\n",
              "      <td>2019-08-04 09:37:17 +0000</td>\n",
              "      <td>Oracle IDAM</td>\n",
              "      <td>Openings: 1</td>\n",
              "      <td>3 - 7 Years</td>\n",
              "      <td>Oracle IDAM|OIM|OAM</td>\n",
              "      <td>Programming &amp; Design</td>\n",
              "      <td>Bengaluru,Hyderabad,Kolkata,Chennai</td>\n",
              "      <td>IT Software - Application Programming , Mainte...</td>\n",
              "      <td>IT-Software / Software Services</td>\n",
              "      <td>Software Developer</td>\n",
              "    </tr>\n",
              "    <tr>\n",
              "      <th>18</th>\n",
              "      <td>201088d1d596841523051e20d56611f5</td>\n",
              "      <td>2019-08-04 20:46:52 +0000</td>\n",
              "      <td>Magento Developer</td>\n",
              "      <td>Not Disclosed by Recruiter</td>\n",
              "      <td>2 - 7 yrs</td>\n",
              "      <td>Copyright| Email| jQuery| XML| Javascript| Ca...</td>\n",
              "      <td>Programming &amp; Design</td>\n",
              "      <td>Ahmedabad</td>\n",
              "      <td>IT Software - eCommerce , Internet Technologies</td>\n",
              "      <td>Textiles, Garments, Accessories</td>\n",
              "      <td>Software Developer</td>\n",
              "    </tr>\n",
              "  </tbody>\n",
              "</table>\n",
              "</div>\n",
              "      <button class=\"colab-df-convert\" onclick=\"convertToInteractive('df-f76bbe62-5fdd-4c1e-9ddd-b20e613df10d')\"\n",
              "              title=\"Convert this dataframe to an interactive table.\"\n",
              "              style=\"display:none;\">\n",
              "        \n",
              "  <svg xmlns=\"http://www.w3.org/2000/svg\" height=\"24px\"viewBox=\"0 0 24 24\"\n",
              "       width=\"24px\">\n",
              "    <path d=\"M0 0h24v24H0V0z\" fill=\"none\"/>\n",
              "    <path d=\"M18.56 5.44l.94 2.06.94-2.06 2.06-.94-2.06-.94-.94-2.06-.94 2.06-2.06.94zm-11 1L8.5 8.5l.94-2.06 2.06-.94-2.06-.94L8.5 2.5l-.94 2.06-2.06.94zm10 10l.94 2.06.94-2.06 2.06-.94-2.06-.94-.94-2.06-.94 2.06-2.06.94z\"/><path d=\"M17.41 7.96l-1.37-1.37c-.4-.4-.92-.59-1.43-.59-.52 0-1.04.2-1.43.59L10.3 9.45l-7.72 7.72c-.78.78-.78 2.05 0 2.83L4 21.41c.39.39.9.59 1.41.59.51 0 1.02-.2 1.41-.59l7.78-7.78 2.81-2.81c.8-.78.8-2.07 0-2.86zM5.41 20L4 18.59l7.72-7.72 1.47 1.35L5.41 20z\"/>\n",
              "  </svg>\n",
              "      </button>\n",
              "      \n",
              "  <style>\n",
              "    .colab-df-container {\n",
              "      display:flex;\n",
              "      flex-wrap:wrap;\n",
              "      gap: 12px;\n",
              "    }\n",
              "\n",
              "    .colab-df-convert {\n",
              "      background-color: #E8F0FE;\n",
              "      border: none;\n",
              "      border-radius: 50%;\n",
              "      cursor: pointer;\n",
              "      display: none;\n",
              "      fill: #1967D2;\n",
              "      height: 32px;\n",
              "      padding: 0 0 0 0;\n",
              "      width: 32px;\n",
              "    }\n",
              "\n",
              "    .colab-df-convert:hover {\n",
              "      background-color: #E2EBFA;\n",
              "      box-shadow: 0px 1px 2px rgba(60, 64, 67, 0.3), 0px 1px 3px 1px rgba(60, 64, 67, 0.15);\n",
              "      fill: #174EA6;\n",
              "    }\n",
              "\n",
              "    [theme=dark] .colab-df-convert {\n",
              "      background-color: #3B4455;\n",
              "      fill: #D2E3FC;\n",
              "    }\n",
              "\n",
              "    [theme=dark] .colab-df-convert:hover {\n",
              "      background-color: #434B5C;\n",
              "      box-shadow: 0px 1px 3px 1px rgba(0, 0, 0, 0.15);\n",
              "      filter: drop-shadow(0px 1px 2px rgba(0, 0, 0, 0.3));\n",
              "      fill: #FFFFFF;\n",
              "    }\n",
              "  </style>\n",
              "\n",
              "      <script>\n",
              "        const buttonEl =\n",
              "          document.querySelector('#df-f76bbe62-5fdd-4c1e-9ddd-b20e613df10d button.colab-df-convert');\n",
              "        buttonEl.style.display =\n",
              "          google.colab.kernel.accessAllowed ? 'block' : 'none';\n",
              "\n",
              "        async function convertToInteractive(key) {\n",
              "          const element = document.querySelector('#df-f76bbe62-5fdd-4c1e-9ddd-b20e613df10d');\n",
              "          const dataTable =\n",
              "            await google.colab.kernel.invokeFunction('convertToInteractive',\n",
              "                                                     [key], {});\n",
              "          if (!dataTable) return;\n",
              "\n",
              "          const docLinkHtml = 'Like what you see? Visit the ' +\n",
              "            '<a target=\"_blank\" href=https://colab.research.google.com/notebooks/data_table.ipynb>data table notebook</a>'\n",
              "            + ' to learn more about interactive tables.';\n",
              "          element.innerHTML = '';\n",
              "          dataTable['output_type'] = 'display_data';\n",
              "          await google.colab.output.renderOutput(dataTable, element);\n",
              "          const docLink = document.createElement('div');\n",
              "          docLink.innerHTML = docLinkHtml;\n",
              "          element.appendChild(docLink);\n",
              "        }\n",
              "      </script>\n",
              "    </div>\n",
              "  </div>\n",
              "  "
            ],
            "text/plain": [
              "                             Uniq Id  ...                 Role\n",
              "4   2d8b7d44e138a54d5dc841163138de50  ...     Testing Engineer\n",
              "5   c9628ea8d9cfd2ca72e14d53783aca90  ...       System Analyst\n",
              "7   9642bed00e26183e41ab73778bf48108  ...  Technical Architect\n",
              "13  225c4680e3df32fbaf9c625ca18ae47c  ...   Software Developer\n",
              "18  201088d1d596841523051e20d56611f5  ...   Software Developer\n",
              "\n",
              "[5 rows x 11 columns]"
            ]
          },
          "metadata": {},
          "execution_count": 62
        }
      ]
    },
    {
      "cell_type": "code",
      "source": [
        "unique_skills = set()\n",
        "for info in data['Key Skills']:\n",
        "  skills = set(i.strip().lower() for i in info.split(\"|\") if len(i.strip()))\n",
        "  unique_skills |= skills\n"
      ],
      "metadata": {
        "id": "A-jhqpdPaOh7"
      },
      "execution_count": 70,
      "outputs": []
    },
    {
      "cell_type": "code",
      "source": [
        "unique_skills = list(unique_skills)\n",
        "comparisor = {skill: ind for ind, skill in enumerate(unique_skills)}"
      ],
      "metadata": {
        "id": "Jy3vSFClavLs"
      },
      "execution_count": 71,
      "outputs": []
    },
    {
      "cell_type": "code",
      "source": [
        "matrix = [[0 for i in range(len(comparisor))] for j in range(len(comparisor))]\n",
        "for info in tqdm(data['Key Skills']):\n",
        "  skills = [i.strip().lower() for i in info.split(\"|\") if len(i.strip())]\n",
        "  for skill1_ind in range(len(skills)):\n",
        "    skill1 = comparisor[skills[skill1_ind]]\n",
        "    for skill2_ind in range(skill1_ind, len(skills)):\n",
        "      skill2 = comparisor[skills[skill2_ind]]\n",
        "      matrix[skill1][skill2]+=1\n",
        "      if skill1!=skill2:\n",
        "        matrix[skill2][skill1]+=1\n",
        "normalized_matrix = []\n",
        "for row in matrix:\n",
        "  summ = sum(row)\n",
        "  normalized_matrix.append((np.array(row)/summ).tolist())\n",
        "with open('/content/gdrive/MyDrive/IT-H/tech_matrix.npy', 'wb') as f:\n",
        "    np.save(f, np.array(normalized_matrix))\n",
        "with open('/content/gdrive/MyDrive/IT-H/skills.txt', 'w') as f:\n",
        "    for skill in unique_skills:\n",
        "      f.write(skill + '\\n')"
      ],
      "metadata": {
        "colab": {
          "base_uri": "https://localhost:8080/",
          "height": 49,
          "referenced_widgets": [
            "bec9c8c091b64ffbb6ca54b80b920694",
            "b9aafa15af0b4d588b74a7f40bb27de0",
            "268c3fa04a28433a9229c6c8d872ec1c",
            "918cee82e2534ec0b475860b50736803",
            "75ca17cbd7714352b1348b6959b77ddc",
            "10a09e7030da4a77b4e61cfd83c27777",
            "42ca7ce06c7d4576930915db55001688",
            "f03113c0123d4c178fe3bb9690c0be46",
            "377eb485ceec44f5b1aa2bd52b17de0a",
            "54f537dc7cf84664a47d8cfceb226ec1",
            "0d2d31cd722e4fa1a7883b48bca3339f"
          ]
        },
        "id": "mmh2swaIbcq-",
        "outputId": "29bbc4af-f27f-440d-e552-4bd150c5887a"
      },
      "execution_count": 100,
      "outputs": [
        {
          "output_type": "display_data",
          "data": {
            "application/vnd.jupyter.widget-view+json": {
              "model_id": "bec9c8c091b64ffbb6ca54b80b920694",
              "version_minor": 0,
              "version_major": 2
            },
            "text/plain": [
              "  0%|          | 0/8365 [00:00<?, ?it/s]"
            ]
          },
          "metadata": {}
        }
      ]
    },
    {
      "cell_type": "code",
      "source": [
        "class Recommender():\n",
        "  def __init__(self, source_path ='/content/gdrive/MyDrive/IT-H/'):\n",
        "    with open(source_path + 'tech_matrix.npy', 'rb') as f:\n",
        "      self.matrix = np.load(f)\n",
        "    with open(source_path + 'skills.txt', 'r') as f:\n",
        "      self.skills_list = [i.strip() for i in f.readlines()]\n",
        "    self.comparator = {skill: i for i, skill in enumerate(self.skills_list)}\n",
        "    self.skills_number = len(self.comparator)\n",
        "\n",
        "  def search_candidates(self, tag: str):\n",
        "    try:\n",
        "      tag = self.comparator[tag.lower()]\n",
        "    except:\n",
        "      print('This tag ({}) is not in database'.format(tag))\n",
        "      return {}\n",
        "    candidates = {}\n",
        "    for skill_ind in range(self.skills_number):\n",
        "        if self.matrix[skill_ind][tag]:\n",
        "          candidates[skill_ind] = self.matrix[skill_ind][tag]\n",
        "    return candidates\n",
        "\n",
        "  def merge_dicts(self, vocab1: Dict, vocab2: Dict) -> Dict:\n",
        "    for key in vocab2:\n",
        "      if key not in vocab1:\n",
        "        vocab1[key] = 0\n",
        "      vocab1[key]+=vocab2[key]\n",
        "    return vocab1\n",
        "\n",
        "  def predict(self, tags_list: List[str], topk = 3) -> List[str]:\n",
        "    tags_list = [i.lower() for i in tags_list]\n",
        "    candidates = {}\n",
        "    for tag in tags_list:\n",
        "      candidates = self.merge_dicts(candidates, self.search_candidates(tag))      \n",
        "    possibles_rated = sorted(list(candidates.keys()), key = lambda x: -candidates[x])\n",
        "    rated_as_text = list(filter(lambda skill: skill not in tags_list, [self.skills_list[skill_ind] for skill_ind in possibles_rated]))\n",
        "    return rated_as_text[:topk]\n"
      ],
      "metadata": {
        "id": "5sWK3vS0mW4D"
      },
      "execution_count": 101,
      "outputs": []
    },
    {
      "cell_type": "code",
      "source": [
        "Recommender().predict(['SQL', 'Python', 'Docker'])"
      ],
      "metadata": {
        "colab": {
          "base_uri": "https://localhost:8080/"
        },
        "id": "AsP2x71PzRF5",
        "outputId": "c5cd7d9b-3f03-4921-849b-28ced2bfdfe6"
      },
      "execution_count": 102,
      "outputs": [
        {
          "output_type": "execute_result",
          "data": {
            "text/plain": [
              "['shell.', 'network protocol testing', 'python developers']"
            ]
          },
          "metadata": {},
          "execution_count": 102
        }
      ]
    },
    {
      "cell_type": "code",
      "source": [
        "Recommender().predict(['js', 'html', 'css'])"
      ],
      "metadata": {
        "colab": {
          "base_uri": "https://localhost:8080/"
        },
        "id": "KDXp3giazhIr",
        "outputId": "383ea476-6b8e-4e20-c154-12d42cc57531"
      },
      "execution_count": 103,
      "outputs": [
        {
          "output_type": "execute_result",
          "data": {
            "text/plain": [
              "['javascript.', 'html programmers', 'pre']"
            ]
          },
          "metadata": {},
          "execution_count": 103
        }
      ]
    },
    {
      "cell_type": "code",
      "source": [
        "Recommender().predict(['ux', 'UI'])"
      ],
      "metadata": {
        "colab": {
          "base_uri": "https://localhost:8080/"
        },
        "id": "6hrrkjwGz_LA",
        "outputId": "2d8deaea-3653-4493-9a6d-4435be7adc6a"
      },
      "execution_count": 106,
      "outputs": [
        {
          "output_type": "execute_result",
          "data": {
            "text/plain": [
              "['health care services', 'object oriented javascript', 'sketch']"
            ]
          },
          "metadata": {},
          "execution_count": 106
        }
      ]
    },
    {
      "cell_type": "code",
      "source": [
        "Recommender().predict(['c++'])"
      ],
      "metadata": {
        "colab": {
          "base_uri": "https://localhost:8080/"
        },
        "id": "O0cizmN40Yv3",
        "outputId": "72a9d92b-ba20-4dcb-fd88-8a0d72de141b"
      },
      "execution_count": 107,
      "outputs": [
        {
          "output_type": "execute_result",
          "data": {
            "text/plain": [
              "['hil', 'embedded system design', 'sr associate']"
            ]
          },
          "metadata": {},
          "execution_count": 107
        }
      ]
    },
    {
      "cell_type": "code",
      "source": [
        ""
      ],
      "metadata": {
        "id": "XQ8xCnVX1lXm"
      },
      "execution_count": null,
      "outputs": []
    }
  ]
}